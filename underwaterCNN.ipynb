{
 "cells": [
  {
   "cell_type": "markdown",
   "metadata": {},
   "source": [
    "# Underwater Imagenet Implementation"
   ]
  },
  {
   "cell_type": "markdown",
   "metadata": {},
   "source": [
    "### Importing the library"
   ]
  },
  {
   "cell_type": "code",
   "execution_count": 1,
   "metadata": {},
   "outputs": [],
   "source": [
    "from keras.models import Model\n",
    "from keras.layers import Conv2D, Dense, Flatten,Dropout,Input\n",
    "from keras.layers import MaxPooling2D,AveragePooling2D,Concatenate"
   ]
  },
  {
   "cell_type": "markdown",
   "metadata": {},
   "source": [
    "### Defining the Inception Module"
   ]
  },
  {
   "cell_type": "code",
   "execution_count": 2,
   "metadata": {},
   "outputs": [],
   "source": [
    "def inception(x,n,i):\n",
    "    '''\n",
    "    The kernel initializer, number of filters and the padding was not defined on the paper. \n",
    "    So I have taken kernel initializer as he_uniform as it works better for images. \n",
    "    And the number of filters here I have taken as 64.\n",
    "    \n",
    "    This function basically merges 3 different types of Convolution layer and then applies Maxpooling layer to it\n",
    "    and then returns.\n",
    "    '''\n",
    "    conv5=Conv2D(n,(5,5),padding=\"same\",activation=\"relu\",kernel_initializer=\"he_uniform\")(x)\n",
    "    conv3=Conv2D(n,(3,3),padding=\"same\",activation=\"relu\",kernel_initializer=\"he_uniform\")(x)\n",
    "    conv1=Conv2D(n,(1,1),padding=\"same\",activation=\"relu\",kernel_initializer=\"he_uniform\")(x)\n",
    "    merged=Concatenate(axis=3,name='inception_network_'+str(i))([conv1,conv3,conv5])\n",
    "    merged=MaxPooling2D(pool_size=(2,2),padding=\"same\")(merged)\n",
    "    return merged"
   ]
  },
  {
   "cell_type": "markdown",
   "metadata": {},
   "source": [
    "### Defining the Architecture of the CNN"
   ]
  },
  {
   "cell_type": "code",
   "execution_count": 3,
   "metadata": {},
   "outputs": [],
   "source": [
    "img_input=Input(shape=(200,200,3))\n",
    "\n",
    "# the number of filters were not given\n",
    "# total number of dense connections were also not provided\n",
    "##<<========= Model Architecture =========>>\n",
    "x= Conv2D(filters=32,kernel_size=(7,7),strides=(2,2),activation='relu',kernel_initializer=\"he_uniform\")(img_input)\n",
    "x=MaxPooling2D(3,2,padding=\"same\")(x)\n",
    "x=Conv2D(32,3,1,activation=\"relu\",kernel_initializer=\"he_uniform\")(x)\n",
    "x=MaxPooling2D(3,2,padding=\"same\")(x)\n",
    "x=inception(x,64,1)\n",
    "x=inception(x,64,2)\n",
    "x=MaxPooling2D(3,2,padding=\"same\")(x)\n",
    "x=inception(x,64,3)\n",
    "x=inception(x,64,4)\n",
    "x=inception(x,64,5)\n",
    "x=inception(x,64,6)\n",
    "x=inception(x,64,7)\n",
    "x=MaxPooling2D(3,2,padding=\"same\")(x)\n",
    "x=inception(x,64,8)\n",
    "x=inception(x,64,9)\n",
    "x=AveragePooling2D(2,padding=\"same\")(x)\n",
    "x=Dropout(0.2)(x)\n",
    "x=Flatten()(x)\n",
    "x=Dense(units=5,activation='softmax')(x)"
   ]
  },
  {
   "cell_type": "code",
   "execution_count": 4,
   "metadata": {},
   "outputs": [],
   "source": [
    "model=Model(inputs=img_input,outputs=x)"
   ]
  },
  {
   "cell_type": "code",
   "execution_count": 5,
   "metadata": {},
   "outputs": [],
   "source": [
    "## compiling the model\n",
    "model.compile(optimizer='adam',loss='categorical_crossentropy',metrics=['accuracy'])"
   ]
  },
  {
   "cell_type": "code",
   "execution_count": 6,
   "metadata": {},
   "outputs": [
    {
     "name": "stdout",
     "output_type": "stream",
     "text": [
      "Model: \"functional_1\"\n",
      "__________________________________________________________________________________________________\n",
      "Layer (type)                    Output Shape         Param #     Connected to                     \n",
      "==================================================================================================\n",
      "input_1 (InputLayer)            [(None, 200, 200, 3) 0                                            \n",
      "__________________________________________________________________________________________________\n",
      "conv2d (Conv2D)                 (None, 97, 97, 32)   4736        input_1[0][0]                    \n",
      "__________________________________________________________________________________________________\n",
      "max_pooling2d (MaxPooling2D)    (None, 49, 49, 32)   0           conv2d[0][0]                     \n",
      "__________________________________________________________________________________________________\n",
      "conv2d_1 (Conv2D)               (None, 47, 47, 32)   9248        max_pooling2d[0][0]              \n",
      "__________________________________________________________________________________________________\n",
      "max_pooling2d_1 (MaxPooling2D)  (None, 24, 24, 32)   0           conv2d_1[0][0]                   \n",
      "__________________________________________________________________________________________________\n",
      "conv2d_4 (Conv2D)               (None, 24, 24, 64)   2112        max_pooling2d_1[0][0]            \n",
      "__________________________________________________________________________________________________\n",
      "conv2d_3 (Conv2D)               (None, 24, 24, 64)   18496       max_pooling2d_1[0][0]            \n",
      "__________________________________________________________________________________________________\n",
      "conv2d_2 (Conv2D)               (None, 24, 24, 64)   51264       max_pooling2d_1[0][0]            \n",
      "__________________________________________________________________________________________________\n",
      "inception_network_1 (Concatenat (None, 24, 24, 192)  0           conv2d_4[0][0]                   \n",
      "                                                                 conv2d_3[0][0]                   \n",
      "                                                                 conv2d_2[0][0]                   \n",
      "__________________________________________________________________________________________________\n",
      "max_pooling2d_2 (MaxPooling2D)  (None, 12, 12, 192)  0           inception_network_1[0][0]        \n",
      "__________________________________________________________________________________________________\n",
      "conv2d_7 (Conv2D)               (None, 12, 12, 64)   12352       max_pooling2d_2[0][0]            \n",
      "__________________________________________________________________________________________________\n",
      "conv2d_6 (Conv2D)               (None, 12, 12, 64)   110656      max_pooling2d_2[0][0]            \n",
      "__________________________________________________________________________________________________\n",
      "conv2d_5 (Conv2D)               (None, 12, 12, 64)   307264      max_pooling2d_2[0][0]            \n",
      "__________________________________________________________________________________________________\n",
      "inception_network_2 (Concatenat (None, 12, 12, 192)  0           conv2d_7[0][0]                   \n",
      "                                                                 conv2d_6[0][0]                   \n",
      "                                                                 conv2d_5[0][0]                   \n",
      "__________________________________________________________________________________________________\n",
      "max_pooling2d_3 (MaxPooling2D)  (None, 6, 6, 192)    0           inception_network_2[0][0]        \n",
      "__________________________________________________________________________________________________\n",
      "max_pooling2d_4 (MaxPooling2D)  (None, 3, 3, 192)    0           max_pooling2d_3[0][0]            \n",
      "__________________________________________________________________________________________________\n",
      "conv2d_10 (Conv2D)              (None, 3, 3, 64)     12352       max_pooling2d_4[0][0]            \n",
      "__________________________________________________________________________________________________\n",
      "conv2d_9 (Conv2D)               (None, 3, 3, 64)     110656      max_pooling2d_4[0][0]            \n",
      "__________________________________________________________________________________________________\n",
      "conv2d_8 (Conv2D)               (None, 3, 3, 64)     307264      max_pooling2d_4[0][0]            \n",
      "__________________________________________________________________________________________________\n",
      "inception_network_3 (Concatenat (None, 3, 3, 192)    0           conv2d_10[0][0]                  \n",
      "                                                                 conv2d_9[0][0]                   \n",
      "                                                                 conv2d_8[0][0]                   \n",
      "__________________________________________________________________________________________________\n",
      "max_pooling2d_5 (MaxPooling2D)  (None, 2, 2, 192)    0           inception_network_3[0][0]        \n",
      "__________________________________________________________________________________________________\n",
      "conv2d_13 (Conv2D)              (None, 2, 2, 64)     12352       max_pooling2d_5[0][0]            \n",
      "__________________________________________________________________________________________________\n",
      "conv2d_12 (Conv2D)              (None, 2, 2, 64)     110656      max_pooling2d_5[0][0]            \n",
      "__________________________________________________________________________________________________\n",
      "conv2d_11 (Conv2D)              (None, 2, 2, 64)     307264      max_pooling2d_5[0][0]            \n",
      "__________________________________________________________________________________________________\n",
      "inception_network_4 (Concatenat (None, 2, 2, 192)    0           conv2d_13[0][0]                  \n",
      "                                                                 conv2d_12[0][0]                  \n",
      "                                                                 conv2d_11[0][0]                  \n",
      "__________________________________________________________________________________________________\n",
      "max_pooling2d_6 (MaxPooling2D)  (None, 1, 1, 192)    0           inception_network_4[0][0]        \n",
      "__________________________________________________________________________________________________\n",
      "conv2d_16 (Conv2D)              (None, 1, 1, 64)     12352       max_pooling2d_6[0][0]            \n",
      "__________________________________________________________________________________________________\n",
      "conv2d_15 (Conv2D)              (None, 1, 1, 64)     110656      max_pooling2d_6[0][0]            \n",
      "__________________________________________________________________________________________________\n",
      "conv2d_14 (Conv2D)              (None, 1, 1, 64)     307264      max_pooling2d_6[0][0]            \n",
      "__________________________________________________________________________________________________\n",
      "inception_network_5 (Concatenat (None, 1, 1, 192)    0           conv2d_16[0][0]                  \n",
      "                                                                 conv2d_15[0][0]                  \n",
      "                                                                 conv2d_14[0][0]                  \n",
      "__________________________________________________________________________________________________\n",
      "max_pooling2d_7 (MaxPooling2D)  (None, 1, 1, 192)    0           inception_network_5[0][0]        \n",
      "__________________________________________________________________________________________________\n",
      "conv2d_19 (Conv2D)              (None, 1, 1, 64)     12352       max_pooling2d_7[0][0]            \n",
      "__________________________________________________________________________________________________\n",
      "conv2d_18 (Conv2D)              (None, 1, 1, 64)     110656      max_pooling2d_7[0][0]            \n",
      "__________________________________________________________________________________________________\n",
      "conv2d_17 (Conv2D)              (None, 1, 1, 64)     307264      max_pooling2d_7[0][0]            \n",
      "__________________________________________________________________________________________________\n",
      "inception_network_6 (Concatenat (None, 1, 1, 192)    0           conv2d_19[0][0]                  \n",
      "                                                                 conv2d_18[0][0]                  \n",
      "                                                                 conv2d_17[0][0]                  \n",
      "__________________________________________________________________________________________________\n",
      "max_pooling2d_8 (MaxPooling2D)  (None, 1, 1, 192)    0           inception_network_6[0][0]        \n",
      "__________________________________________________________________________________________________\n",
      "conv2d_22 (Conv2D)              (None, 1, 1, 64)     12352       max_pooling2d_8[0][0]            \n",
      "__________________________________________________________________________________________________\n",
      "conv2d_21 (Conv2D)              (None, 1, 1, 64)     110656      max_pooling2d_8[0][0]            \n",
      "__________________________________________________________________________________________________\n",
      "conv2d_20 (Conv2D)              (None, 1, 1, 64)     307264      max_pooling2d_8[0][0]            \n",
      "__________________________________________________________________________________________________\n",
      "inception_network_7 (Concatenat (None, 1, 1, 192)    0           conv2d_22[0][0]                  \n",
      "                                                                 conv2d_21[0][0]                  \n",
      "                                                                 conv2d_20[0][0]                  \n",
      "__________________________________________________________________________________________________\n",
      "max_pooling2d_9 (MaxPooling2D)  (None, 1, 1, 192)    0           inception_network_7[0][0]        \n",
      "__________________________________________________________________________________________________\n",
      "max_pooling2d_10 (MaxPooling2D) (None, 1, 1, 192)    0           max_pooling2d_9[0][0]            \n",
      "__________________________________________________________________________________________________\n",
      "conv2d_25 (Conv2D)              (None, 1, 1, 64)     12352       max_pooling2d_10[0][0]           \n",
      "__________________________________________________________________________________________________\n",
      "conv2d_24 (Conv2D)              (None, 1, 1, 64)     110656      max_pooling2d_10[0][0]           \n",
      "__________________________________________________________________________________________________\n",
      "conv2d_23 (Conv2D)              (None, 1, 1, 64)     307264      max_pooling2d_10[0][0]           \n",
      "__________________________________________________________________________________________________\n",
      "inception_network_8 (Concatenat (None, 1, 1, 192)    0           conv2d_25[0][0]                  \n",
      "                                                                 conv2d_24[0][0]                  \n",
      "                                                                 conv2d_23[0][0]                  \n",
      "__________________________________________________________________________________________________\n",
      "max_pooling2d_11 (MaxPooling2D) (None, 1, 1, 192)    0           inception_network_8[0][0]        \n",
      "__________________________________________________________________________________________________\n",
      "conv2d_28 (Conv2D)              (None, 1, 1, 64)     12352       max_pooling2d_11[0][0]           \n",
      "__________________________________________________________________________________________________\n",
      "conv2d_27 (Conv2D)              (None, 1, 1, 64)     110656      max_pooling2d_11[0][0]           \n",
      "__________________________________________________________________________________________________\n",
      "conv2d_26 (Conv2D)              (None, 1, 1, 64)     307264      max_pooling2d_11[0][0]           \n",
      "__________________________________________________________________________________________________\n",
      "inception_network_9 (Concatenat (None, 1, 1, 192)    0           conv2d_28[0][0]                  \n",
      "                                                                 conv2d_27[0][0]                  \n",
      "                                                                 conv2d_26[0][0]                  \n",
      "__________________________________________________________________________________________________\n",
      "max_pooling2d_12 (MaxPooling2D) (None, 1, 1, 192)    0           inception_network_9[0][0]        \n",
      "__________________________________________________________________________________________________\n",
      "average_pooling2d (AveragePooli (None, 1, 1, 192)    0           max_pooling2d_12[0][0]           \n",
      "__________________________________________________________________________________________________\n",
      "dropout (Dropout)               (None, 1, 1, 192)    0           average_pooling2d[0][0]          \n",
      "__________________________________________________________________________________________________\n",
      "flatten (Flatten)               (None, 192)          0           dropout[0][0]                    \n",
      "__________________________________________________________________________________________________\n",
      "dense (Dense)                   (None, 5)            965         flatten[0][0]                    \n",
      "==================================================================================================\n",
      "Total params: 3,528,997\n",
      "Trainable params: 3,528,997\n",
      "Non-trainable params: 0\n",
      "__________________________________________________________________________________________________\n"
     ]
    }
   ],
   "source": [
    "## summary of the model\n",
    "model.summary()"
   ]
  },
  {
   "cell_type": "code",
   "execution_count": 7,
   "metadata": {},
   "outputs": [
    {
     "name": "stdout",
     "output_type": "stream",
     "text": [
      "Found 6128 images belonging to 5 classes.\n",
      "Found 6127 images belonging to 5 classes.\n",
      "WARNING:tensorflow:From <ipython-input-7-f2f4c243dac2>:25: Model.fit_generator (from tensorflow.python.keras.engine.training) is deprecated and will be removed in a future version.\n",
      "Instructions for updating:\n",
      "Please use Model.fit, which supports generators.\n",
      "Epoch 1/12\n",
      "256/256 [==============================] - 29s 115ms/step - loss: 1.2819 - accuracy: 0.4761 - val_loss: 1.2053 - val_accuracy: 0.4500\n",
      "Epoch 2/12\n",
      "256/256 [==============================] - 31s 122ms/step - loss: 1.1891 - accuracy: 0.5278 - val_loss: 1.2159 - val_accuracy: 0.4812\n",
      "Epoch 3/12\n",
      "256/256 [==============================] - 31s 122ms/step - loss: 1.1419 - accuracy: 0.5496 - val_loss: 1.3131 - val_accuracy: 0.5063\n",
      "Epoch 4/12\n",
      "256/256 [==============================] - 30s 118ms/step - loss: 1.0905 - accuracy: 0.5630 - val_loss: 1.2385 - val_accuracy: 0.4375\n",
      "Epoch 5/12\n",
      "256/256 [==============================] - 30s 118ms/step - loss: 1.0563 - accuracy: 0.5750 - val_loss: 1.1089 - val_accuracy: 0.5188\n",
      "Epoch 6/12\n",
      "256/256 [==============================] - 32s 125ms/step - loss: 1.0521 - accuracy: 0.5732 - val_loss: 1.1663 - val_accuracy: 0.5125\n",
      "Epoch 7/12\n",
      "256/256 [==============================] - 31s 122ms/step - loss: 1.0230 - accuracy: 0.5876 - val_loss: 1.1133 - val_accuracy: 0.5562\n",
      "Epoch 8/12\n",
      "256/256 [==============================] - 32s 125ms/step - loss: 1.0151 - accuracy: 0.5913 - val_loss: 1.0622 - val_accuracy: 0.5813\n",
      "Epoch 9/12\n",
      "256/256 [==============================] - 31s 120ms/step - loss: 0.9713 - accuracy: 0.6150 - val_loss: 0.8285 - val_accuracy: 0.6875\n",
      "Epoch 10/12\n",
      "256/256 [==============================] - 29s 115ms/step - loss: 0.9560 - accuracy: 0.6216 - val_loss: 1.0604 - val_accuracy: 0.5562\n",
      "Epoch 11/12\n",
      "256/256 [==============================] - 30s 117ms/step - loss: 0.9571 - accuracy: 0.6147 - val_loss: 1.0052 - val_accuracy: 0.6187\n",
      "Epoch 12/12\n",
      "256/256 [==============================] - 30s 116ms/step - loss: 0.9234 - accuracy: 0.6521 - val_loss: 1.0334 - val_accuracy: 0.5813\n"
     ]
    },
    {
     "data": {
      "text/plain": [
       "<tensorflow.python.keras.callbacks.History at 0x19bafd12588>"
      ]
     },
     "execution_count": 7,
     "metadata": {},
     "output_type": "execute_result"
    }
   ],
   "source": [
    "# fittig the above model to the images\n",
    "from keras.preprocessing.image import ImageDataGenerator\n",
    "train_datagen = ImageDataGenerator(rescale = 1./255,\n",
    "                                   shear_range = 0.3,\n",
    "                                   zoom_range = 0.3,\n",
    "                                   horizontal_flip = True,\n",
    "                                   vertical_flip=True)\n",
    "\n",
    "test_datagen = ImageDataGenerator(rescale = 1./255)\n",
    "\n",
    "training_set = train_datagen.flow_from_directory('data/trainA',\n",
    "                                                 target_size = (200,200),\n",
    "                                                 batch_size = 16,\n",
    "                                                 class_mode = 'categorical')\n",
    "\n",
    "test_set = test_datagen.flow_from_directory('data/trainB',\n",
    "                                            target_size = (200,200),\n",
    "                                            batch_size = 16,\n",
    "                                            class_mode = 'categorical')\n",
    "\n",
    "model.fit_generator(training_set, \n",
    "                         steps_per_epoch = 256,\n",
    "                         epochs = 12,\n",
    "                         validation_data = test_set,\n",
    "                         validation_steps = 10)"
   ]
  },
  {
   "cell_type": "code",
   "execution_count": null,
   "metadata": {},
   "outputs": [],
   "source": []
  }
 ],
 "metadata": {
  "kernelspec": {
   "display_name": "Python 3",
   "language": "python",
   "name": "python3"
  },
  "language_info": {
   "codemirror_mode": {
    "name": "ipython",
    "version": 3
   },
   "file_extension": ".py",
   "mimetype": "text/x-python",
   "name": "python",
   "nbconvert_exporter": "python",
   "pygments_lexer": "ipython3",
   "version": "3.7.9"
  }
 },
 "nbformat": 4,
 "nbformat_minor": 4
}
