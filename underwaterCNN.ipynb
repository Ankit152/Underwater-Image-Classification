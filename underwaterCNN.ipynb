{
 "cells": [
  {
   "cell_type": "code",
   "execution_count": null,
   "metadata": {},
   "outputs": [],
   "source": [
    "from keras.models import Model\n",
    "from keras.layers import Conv2D, Dense, Flatten,Dropout,Input\n",
    "from keras.layers import MaxPooling2D,AveragePooling2D,Concatenate"
   ]
  },
  {
   "cell_type": "code",
   "execution_count": null,
   "metadata": {},
   "outputs": [],
   "source": [
    "def inception(x,n):\n",
    "    conv5=Conv2D(x,n,(5,5),padding=\"same\",activation=\"relu\",kernel_initializer=\"he_uniform\")\n",
    "    conv3=Conv2D(x,n,(3,3),padding=\"same\",activation=\"relu\",kernel_initializer=\"he_uniform\")\n",
    "    conv1=Conv2D(x,n,(1,1),padding=\"same\",activation=\"relu\",kernel_initializer=\"he_uniform\")\n",
    "    merged=Concatenate(axis=3,name='inception_network')([conv1,conv3,conv5])\n",
    "    x=MaxPooling2D(merged,pool_size=(3,3))\n",
    "    return x"
   ]
  },
  {
   "cell_type": "code",
   "execution_count": null,
   "metadata": {},
   "outputs": [],
   "source": [
    "img_input=Input(shape=(512,512,3))\n",
    "x=Conv2D(img_input,16,7,activation=\"relu\",kernel_initializer=\"he_uniform\")\n",
    "x=MaxPooling2D(3,padding=\"same\")(x)\n",
    "x=Conv2D(32,3,activation=\"relu\",kernel_initializer=\"he_uniform\")(x)\n",
    "x=MaxPooling2D(3,padding=\"same\")(x)\n",
    "x=inception(x,64)\n",
    "x=inception(x,64)\n",
    "x=MaxPooling2D(3,padding=\"same\")(x)\n",
    "x=inception(x,128)\n",
    "x=inception(x,128)\n",
    "x=inception(x,128)\n",
    "x=inception(x,128)\n",
    "x=inception(x,128)\n",
    "x=MaxPooling2D(3,padding=\"same\")(x)\n",
    "x=inception(x,256)\n",
    "x=inception(x,256)\n",
    "x=AveragePooling2D(2,padding=\"same\")(x)\n",
    "x=Dropout(0.2)(x)\n",
    "x=Flatten()(x)\n",
    "x=Dense(units=128,activation='relu')(x)\n",
    "x=Dense(units=5,activation='softmax')(x)"
   ]
  },
  {
   "cell_type": "code",
   "execution_count": null,
   "metadata": {},
   "outputs": [],
   "source": [
    "model=Model(x,img_input)"
   ]
  },
  {
   "cell_type": "code",
   "execution_count": null,
   "metadata": {},
   "outputs": [],
   "source": [
    "model.compile(optimizer='adam',loss='categorical_crossentropy',metrics=['accuracy'])"
   ]
  },
  {
   "cell_type": "code",
   "execution_count": null,
   "metadata": {},
   "outputs": [],
   "source": [
    "model.summary()"
   ]
  },
  {
   "cell_type": "code",
   "execution_count": null,
   "metadata": {},
   "outputs": [],
   "source": [
    "# fittig the above model to the images\n",
    "from keras.preprocessing.image import ImageDataGenerator\n",
    "train_datagen = ImageDataGenerator(rescale = 1./255,\n",
    "                                   shear_range = 0.2,\n",
    "                                   zoom_range = 0.2,\n",
    "                                   horizontal_flip = True)\n",
    "\n",
    "test_datagen = ImageDataGenerator(rescale = 1./255)\n",
    "\n",
    "training_set = train_datagen.flow_from_directory('data/trainA',\n",
    "                                                 target_size = (512,512),\n",
    "                                                 batch_size = 16,\n",
    "                                                 class_mode = 'categorical')\n",
    "\n",
    "test_set = test_datagen.flow_from_directory('data/trainB',\n",
    "                                            target_size = (512,512),\n",
    "                                            batch_size = 16,\n",
    "                                            class_mode = 'categorical')\n",
    "\n",
    "model.fit_generator(training_set, \n",
    "                         steps_per_epoch = 200,\n",
    "                         epochs = 16,\n",
    "                         validation_data = test_set,\n",
    "                         validation_steps = 20)"
   ]
  },
  {
   "cell_type": "code",
   "execution_count": null,
   "metadata": {},
   "outputs": [],
   "source": []
  }
 ],
 "metadata": {
  "kernelspec": {
   "display_name": "Python 3",
   "language": "python",
   "name": "python3"
  },
  "language_info": {
   "codemirror_mode": {
    "name": "ipython",
    "version": 3
   },
   "file_extension": ".py",
   "mimetype": "text/x-python",
   "name": "python",
   "nbconvert_exporter": "python",
   "pygments_lexer": "ipython3",
   "version": "3.7.9"
  }
 },
 "nbformat": 4,
 "nbformat_minor": 4
}
